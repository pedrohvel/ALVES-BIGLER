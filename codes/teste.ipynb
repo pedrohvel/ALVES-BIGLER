{
 "cells": [
  {
   "cell_type": "code",
   "execution_count": 2,
   "metadata": {},
   "outputs": [
    {
     "ename": "AttributeError",
     "evalue": "'tuple' object has no attribute 'value'",
     "output_type": "error",
     "traceback": [
      "\u001b[1;31m---------------------------------------------------------------------------\u001b[0m",
      "\u001b[1;31mAttributeError\u001b[0m                            Traceback (most recent call last)",
      "Cell \u001b[1;32mIn[2], line 12\u001b[0m\n\u001b[0;32m      9\u001b[0m ws \u001b[38;5;241m=\u001b[39m wb\u001b[38;5;241m.\u001b[39mactive\n\u001b[0;32m     11\u001b[0m \u001b[38;5;66;03m# Iteração sobre os clientes\u001b[39;00m\n\u001b[1;32m---> 12\u001b[0m clientes \u001b[38;5;241m=\u001b[39m \u001b[43mws\u001b[49m\u001b[43m[\u001b[49m\u001b[38;5;124;43m'\u001b[39;49m\u001b[38;5;124;43mB\u001b[39;49m\u001b[38;5;124;43m'\u001b[39;49m\u001b[43m]\u001b[49m\u001b[38;5;241;43m.\u001b[39;49m\u001b[43mvalue\u001b[49m\n\u001b[0;32m     14\u001b[0m \u001b[38;5;28;01mfor\u001b[39;00m cliente \u001b[38;5;129;01min\u001b[39;00m clientes:\n\u001b[0;32m     15\u001b[0m     \u001b[38;5;66;03m# Filtro dos dados por cliente\u001b[39;00m\n\u001b[0;32m     16\u001b[0m     dados_cliente \u001b[38;5;241m=\u001b[39m []\n",
      "\u001b[1;31mAttributeError\u001b[0m: 'tuple' object has no attribute 'value'"
     ]
    }
   ],
   "source": [
    "import pandas as pd\n",
    "from reportlab.lib.pagesizes import landscape, inch\n",
    "from reportlab.pdfgen import canvas\n",
    "from openpyxl import load_workbook\n",
    "\n",
    "# Leitura do Excel com openpyxl\n",
    "caminho_arquivo_excel = 'C:\\\\Users\\\\mateu\\\\OneDrive\\\\Documents\\\\DOCUMENTOS , FAMILIA , CURRICULO\\\\BM Finance Group\\\\Alves&Bigler\\\\Rel de Acordos  Cobrança 12.03.2024 a 20.03.2024 - JUA CONDOMINIO.xlsx'\n",
    "wb = load_workbook(filename=caminho_arquivo_excel, data_only=True)\n",
    "ws = wb.active\n",
    "\n",
    "# Iteração sobre os clientes\n",
    "clientes = ws['B'].value\n",
    "\n",
    "for cliente in clientes:\n",
    "    # Filtro dos dados por cliente\n",
    "    dados_cliente = []\n",
    "    for row in ws.iter_rows(min_row=13, max_row=ws.max_row, min_col=1, max_col=ws.max_column):\n",
    "        if row[1].value == cliente:\n",
    "            dados_cliente.append([cell.value for cell in row])\n",
    "\n",
    "    # Criação do DataFrame\n",
    "    df_cliente = pd.DataFrame(dados_cliente[1:], columns=dados_cliente[0])\n",
    "\n",
    "    # Geração de relatório em PDF\n",
    "    nome_arquivo = f\"relatorio_{cliente}.pdf\"\n",
    "\n",
    "    # Definição do tamanho da página como paisagem\n",
    "    width, height = 11*inch, 8.5*inch  # Largura e altura em polegadas\n",
    "    pagesize = landscape((width, height))\n",
    "\n",
    "    # Criação do arquivo PDF com as dimensões personalizadas\n",
    "    c = canvas.Canvas(nome_arquivo, pagesize=pagesize)\n",
    "\n",
    "    # Escrevendo os dados no PDF\n",
    "    y = 700  # Posição inicial (para ajustar conforme necessário)\n",
    "    for index, row in df_cliente.iterrows():\n",
    "        x = 50  # Posição horizontal (para ajustar conforme necessário)\n",
    "        for coluna in df_cliente.columns:\n",
    "            c.drawString(x, y, str(row[coluna]))\n",
    "            x += 100  # Espaço entre colunas (para ajustar conforme necessário)\n",
    "        y -= 20  # Espaço entre linhas (para ajustar conforme necessário)\n",
    "\n",
    "    c.save()\n",
    "\n",
    "    # Salvar o relatório\n",
    "    print(f\"Relatório para {cliente} gerado com sucesso: {nome_arquivo}\")\n"
   ]
  }
 ],
 "metadata": {
  "kernelspec": {
   "display_name": "Python 3",
   "language": "python",
   "name": "python3"
  },
  "language_info": {
   "codemirror_mode": {
    "name": "ipython",
    "version": 3
   },
   "file_extension": ".py",
   "mimetype": "text/x-python",
   "name": "python",
   "nbconvert_exporter": "python",
   "pygments_lexer": "ipython3",
   "version": "3.12.1"
  }
 },
 "nbformat": 4,
 "nbformat_minor": 2
}
