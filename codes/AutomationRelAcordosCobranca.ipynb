{
 "cells": [
  {
   "cell_type": "code",
   "execution_count": 1,
   "metadata": {},
   "outputs": [
    {
     "name": "stderr",
     "output_type": "stream",
     "text": [
      "C:\\Users\\mateu\\AppData\\Local\\Temp\\ipykernel_5872\\1277959252.py:75: FutureWarning: Setting an item of incompatible dtype is deprecated and will raise in a future error of pandas. Value '' has dtype incompatible with float64, please explicitly cast to a compatible dtype first.\n",
      "  df.fillna(value='', inplace=True)\n"
     ]
    }
   ],
   "source": [
    "from reportlab.lib import colors\n",
    "from reportlab.lib.pagesizes import landscape, letter\n",
    "from reportlab.platypus import SimpleDocTemplate, Table, TableStyle\n",
    "from reportlab.lib.styles import getSampleStyleSheet\n",
    "from reportlab.lib.units import inch\n",
    "from reportlab.lib.enums import TA_CENTER\n",
    "import pandas as pd\n",
    "\n",
    "# Função para criar e salvar o PDF para cada cliente\n",
    "\n",
    "\n",
    "def criar_pdf_para_cliente(cliente, dados_cliente):\n",
    "    # Definindo o tamanho da página paisagem com dimensões personalizadas\n",
    "    width, height = landscape((45*inch, 8*inch))  # Tamanho personalizado\n",
    "\n",
    "    # Ajustando a largura das colunas para se ajustarem ao novo tamanho da página\n",
    "    num_cols = len(dados_cliente.columns)\n",
    "    # Ajustando para a largura da página menos 100 unidades para margem\n",
    "    col_width = (width - 100) / num_cols\n",
    "\n",
    "    # Definindo o estilo da tabela e do texto\n",
    "    style_sheet = getSampleStyleSheet()\n",
    "    estilo_tabela = style_sheet['BodyText']\n",
    "    estilo_tabela.alignment = TA_CENTER\n",
    "    estilo_cabecalho = style_sheet['Title']\n",
    "    estilo_cabecalho.alignment = TA_CENTER\n",
    "\n",
    "    # Definindo o estilo da fonte e tamanho\n",
    "    fonte = 'Helvetica'\n",
    "    tamanho_fonte = 8  # Reduzindo o tamanho da fonte\n",
    "\n",
    "    # Criando o arquivo PDF\n",
    "    pdf_output_path = f'relatorio_{cliente}.pdf'\n",
    "    pdf = SimpleDocTemplate(pdf_output_path, pagesize=landscape(\n",
    "        (45*inch, 8*inch)))  # Tamanho personalizado\n",
    "\n",
    "    # Criando uma lista para armazenar os dados da tabela\n",
    "    table_data = []\n",
    "\n",
    "    # Adicionando cabeçalhos à lista\n",
    "    table_data.append(dados_cliente.columns.tolist())\n",
    "\n",
    "    # Adicionando os dados à lista\n",
    "    for _, row in dados_cliente.iterrows():\n",
    "        table_data.append(row.tolist())\n",
    "\n",
    "    # Criando a tabela com os dados\n",
    "    # Ajustando os tamanhos das colunas CARTEIRA e NOME\n",
    "    col_width_cart = col_width * 1.4  # Ajuste de largura para a coluna CARTEIRA\n",
    "    col_width_nome = col_width * 1.4  # Ajuste de largura para a coluna NOME\n",
    "    table = Table(table_data, colWidths=[\n",
    "                  col_width_cart, col_width_nome] + [col_width] * (num_cols - 2))\n",
    "\n",
    "    # Aplicando estilos à tabela\n",
    "    table.setStyle(TableStyle([('BACKGROUND', (0, 0), (-1, 0), colors.black),\n",
    "                               ('TEXTCOLOR', (0, 0), (-1, 0), colors.white),\n",
    "                               ('ALIGN', (0, 0), (-1, -1), 'CENTER'),\n",
    "                               ('FONTNAME', (0, 0), (-1, 0), fonte),\n",
    "                               ('FONTSIZE', (0, 0), (-1, -1), tamanho_fonte),\n",
    "                               ('BOTTOMPADDING', (0, 0), (-1, 0), 12),\n",
    "                               # Cor de fundo branco para os dados\n",
    "                               ('BACKGROUND', (0, 1), (-1, -1), colors.white),\n",
    "                               # Adicionando bordas\n",
    "                               ('GRID', (0, 0), (-1, -1), 1, colors.black)]))\n",
    "\n",
    "    # Adicionando a tabela ao PDF\n",
    "    pdf.build([table])\n",
    "\n",
    "\n",
    "# Leitura do arquivo Excel original\n",
    "excel_file_path = r'C:\\\\Users\\\\mateu\\\\OneDrive\\\\Documents\\\\DOCUMENTOS , FAMILIA , CURRICULO\\\\BM Finance Group\\\\Alves&Bigler\\\\Rel de Acordos  Cobrança 12.03.2024 a 20.03.2024 - JUA CONDOMINIO.xlsx'\n",
    "df = pd.read_excel(excel_file_path, header=10)\n",
    "\n",
    "# Tratamento de dados vazios (se necessário)\n",
    "df.fillna(value='', inplace=True)\n",
    "\n",
    "# Obtendo a lista de clientes\n",
    "clientes = df['CARTEIRA'].unique()\n",
    "\n",
    "# Salvando os dados de cada cliente em um PDF separado\n",
    "for cliente in clientes:\n",
    "    # Filtragem dos dados por cliente\n",
    "    dados_cliente = df[df['CARTEIRA'] == cliente]\n",
    "\n",
    "    # Criando e salvando o PDF para o cliente atual\n",
    "    criar_pdf_para_cliente(cliente, dados_cliente)\n"
   ]
  },
  {
   "cell_type": "code",
   "execution_count": 2,
   "metadata": {},
   "outputs": [
    {
     "data": {
      "text/plain": [
       "CARTEIRA                   object\n",
       "CONTRATO                   object\n",
       "NOME                       object\n",
       "FATURA ORIGEM              object\n",
       "PRINC ORIGEM PARC          object\n",
       "JUROS                      object\n",
       "MULTA                      object\n",
       "HONORARIO                  object\n",
       "JUROS PAGOS                object\n",
       "DESPESA                    object\n",
       "CUSTAS                     object\n",
       "DATA PAGAMENTO             object\n",
       "VALOR PAGO                 object\n",
       "VALOR REPASSE             float64\n",
       "PARCELA PAGA               object\n",
       "PARCELAS DO ACORDO         object\n",
       "VALOR ABERTO DO ACORDO     object\n",
       "DATA ACORDO                object\n",
       "PERIODO                    object\n",
       "dtype: object"
      ]
     },
     "execution_count": 2,
     "metadata": {},
     "output_type": "execute_result"
    }
   ],
   "source": [
    "df.dtypes"
   ]
  }
 ],
 "metadata": {
  "kernelspec": {
   "display_name": "Python 3",
   "language": "python",
   "name": "python3"
  },
  "language_info": {
   "codemirror_mode": {
    "name": "ipython",
    "version": 3
   },
   "file_extension": ".py",
   "mimetype": "text/x-python",
   "name": "python",
   "nbconvert_exporter": "python",
   "pygments_lexer": "ipython3",
   "version": "3.12.1"
  }
 },
 "nbformat": 4,
 "nbformat_minor": 2
}
